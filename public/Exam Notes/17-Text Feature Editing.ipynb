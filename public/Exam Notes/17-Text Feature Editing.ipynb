{
 "cells": [
  {
   "cell_type": "code",
   "execution_count": 1,
   "metadata": {},
   "outputs": [
    {
     "name": "stdout",
     "output_type": "stream",
     "text": [
      "{'the': 6, 'aggressive': 0, 'brown': 2, 'beast': 1, 'exasperated': 3, 'pedantic': 4, 'pontificator': 5}\n",
      "(1, 7)\n",
      "<class 'scipy.sparse.csr.csr_matrix'>\n",
      "[[1 1 1 1 1 1 2]]\n"
     ]
    }
   ],
   "source": [
    "from sklearn.feature_extraction.text import CountVectorizer\n",
    "#\n",
    "# Bag-of-Words example\n",
    "#\n",
    "# Some text\n",
    "short_text = [\"The aggressive brown beast exasperated the pedantic pontificator.\"]\n",
    "# Create the vectorizer transformer\n",
    "vectorizer = CountVectorizer()\n",
    "# Tokenize and create the vocabulary\n",
    "vectorizer.fit(short_text)\n",
    "# Show the vectorized vocabulary\n",
    "print(vectorizer.vocabulary_)\n",
    "# Encode the text\n",
    "vector = vectorizer.transform(short_text)\n",
    "# Show the encoded vector\n",
    "print(vector.shape)\n",
    "print(type(vector))\n",
    "print(vector.toarray())"
   ]
  },
  {
   "cell_type": "code",
   "execution_count": 2,
   "metadata": {},
   "outputs": [
    {
     "name": "stdout",
     "output_type": "stream",
     "text": [
      "['all', 'all around', 'all around the', 'and', 'and the', 'and the bit', 'around', 'around the', 'around the yard', 'bit', 'bit his', 'bit his owner', 'his', 'his owner', 'owner', 'puppy', 'puppy ran', 'puppy ran all', 'ran', 'ran all', 'ran all around', 'silly', 'silly puppy', 'silly puppy ran', 'the', 'the bit', 'the bit his', 'the silly', 'the silly puppy', 'the yard', 'the yard and', 'yard', 'yard and', 'yard and the']\n"
     ]
    }
   ],
   "source": [
    "#\n",
    "# N-Gram example\n",
    "#\n",
    "# Create the vectorizer transformer\n",
    "ngram_vectorizer = CountVectorizer(analyzer='word', ngram_range=(1, 3))\n",
    "# Tokenize and create the vocabulary\n",
    "counts = ngram_vectorizer.fit_transform(['The silly puppy ran all around the yard and the bit his owner!'])\n",
    "# Check the results\n",
    "print(ngram_vectorizer.get_feature_names())"
   ]
  },
  {
   "cell_type": "code",
   "execution_count": null,
   "metadata": {},
   "outputs": [],
   "source": []
  }
 ],
 "metadata": {
  "kernelspec": {
   "display_name": "conda_python3",
   "language": "python",
   "name": "conda_python3"
  },
  "language_info": {
   "codemirror_mode": {
    "name": "ipython",
    "version": 3
   },
   "file_extension": ".py",
   "mimetype": "text/x-python",
   "name": "python",
   "nbconvert_exporter": "python",
   "pygments_lexer": "ipython3",
   "version": "3.6.5"
  }
 },
 "nbformat": 4,
 "nbformat_minor": 2
}
