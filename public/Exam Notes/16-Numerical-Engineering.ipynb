{
  "nbformat": 4,
  "nbformat_minor": 0,
  "metadata": {
    "colab": {
      "name": "16-Numerical Engineering.ipynb",
      "provenance": [],
      "collapsed_sections": []
    },
    "kernelspec": {
      "name": "python3",
      "display_name": "Python 3"
    }
  },
  "cells": [
    {
      "cell_type": "code",
      "metadata": {
        "id": "eJOuXz0Mjygu",
        "colab_type": "code",
        "colab": {
          "base_uri": "https://localhost:8080/",
          "height": 499
        },
        "outputId": "bd495b9d-48c0-46f6-cc8d-1338e8326f67"
      },
      "source": [
        "# Class to colorize, bold, or underline output\n",
        "class color:\n",
        "   PURPLE = '\\033[95m'\n",
        "   CYAN = '\\033[96m'\n",
        "   DARKCYAN = '\\033[36m'\n",
        "   BLUE = '\\033[94m'\n",
        "   GREEN = '\\033[92m'\n",
        "   YELLOW = '\\033[93m'\n",
        "   RED = '\\033[91m'\n",
        "   BOLD = '\\033[1m'\n",
        "   UNDERLINE = '\\033[4m'\n",
        "   END = '\\033[0m'\n",
        "# \n",
        "import pandas as pd\n",
        "import numpy as np\n",
        "\n",
        "data = pd.DataFrame({'Country':['Spain', 'Italy', 'Chile', 'Brazil', 'Canada', 'North Korea', 'Vietnam', 'Thailand', 'Malaysia', 'Mayanmar', 'Iceland', 'Germany', 'Cuba'], \n",
        "                     'Continent':['Europe', 'Europe', 'South America', 'South America', 'North America', 'Asia', 'Asia', 'Asia', 'Asia', 'Asia', 'North America', 'Europe',\n",
        "                                  'Central America']})\n",
        "\n",
        "# Categorical Binning Example\n",
        "conditions = [\n",
        "    data['Country'].str.contains('Spain'),\n",
        "    data['Country'].str.contains('Italy'),\n",
        "    data['Country'].str.contains('Chile'),\n",
        "    data['Country'].str.contains('Brazil'),\n",
        "    data['Country'].str.contains('Canada'),\n",
        "    data['Country'].str.contains('North Korea'),\n",
        "    data['Country'].str.contains('Vietnam'),\n",
        "    data['Country'].str.contains('Thailand'),\n",
        "    data['Country'].str.contains('Malaysia'),\n",
        "    data['Country'].str.contains('Mayanmar'),\n",
        "    data['Country'].str.contains('Iceland'),\n",
        "    data['Country'].str.contains('Germany'),\n",
        "    data['Country'].str.contains('Cuba')]\n",
        "\n",
        "choices = np.array(['Europe', 'Europe', 'South America', 'South America', 'North America', 'Asia', 'Asia', 'Asia', 'Asia', 'Asia', 'North America', 'Europe', 'South America'])\n",
        "unique, counts = np.unique(choices, return_counts=True)\n",
        "data['Continent'] = np.select(conditions, choices, default='Other')\n",
        "print(color.BOLD + color.PURPLE + \"\\nCountries by continent\" + color.END)\n",
        "data"
      ],
      "execution_count": 2,
      "outputs": [
        {
          "output_type": "stream",
          "text": [
            "\u001b[1m\u001b[95m\n",
            "Countries by continent\u001b[0m\n"
          ],
          "name": "stdout"
        },
        {
          "output_type": "execute_result",
          "data": {
            "text/html": [
              "<div>\n",
              "<style scoped>\n",
              "    .dataframe tbody tr th:only-of-type {\n",
              "        vertical-align: middle;\n",
              "    }\n",
              "\n",
              "    .dataframe tbody tr th {\n",
              "        vertical-align: top;\n",
              "    }\n",
              "\n",
              "    .dataframe thead th {\n",
              "        text-align: right;\n",
              "    }\n",
              "</style>\n",
              "<table border=\"1\" class=\"dataframe\">\n",
              "  <thead>\n",
              "    <tr style=\"text-align: right;\">\n",
              "      <th></th>\n",
              "      <th>Country</th>\n",
              "      <th>Continent</th>\n",
              "    </tr>\n",
              "  </thead>\n",
              "  <tbody>\n",
              "    <tr>\n",
              "      <th>0</th>\n",
              "      <td>Spain</td>\n",
              "      <td>Europe</td>\n",
              "    </tr>\n",
              "    <tr>\n",
              "      <th>1</th>\n",
              "      <td>Italy</td>\n",
              "      <td>Europe</td>\n",
              "    </tr>\n",
              "    <tr>\n",
              "      <th>2</th>\n",
              "      <td>Chile</td>\n",
              "      <td>South America</td>\n",
              "    </tr>\n",
              "    <tr>\n",
              "      <th>3</th>\n",
              "      <td>Brazil</td>\n",
              "      <td>South America</td>\n",
              "    </tr>\n",
              "    <tr>\n",
              "      <th>4</th>\n",
              "      <td>Canada</td>\n",
              "      <td>North America</td>\n",
              "    </tr>\n",
              "    <tr>\n",
              "      <th>5</th>\n",
              "      <td>North Korea</td>\n",
              "      <td>Asia</td>\n",
              "    </tr>\n",
              "    <tr>\n",
              "      <th>6</th>\n",
              "      <td>Vietnam</td>\n",
              "      <td>Asia</td>\n",
              "    </tr>\n",
              "    <tr>\n",
              "      <th>7</th>\n",
              "      <td>Thailand</td>\n",
              "      <td>Asia</td>\n",
              "    </tr>\n",
              "    <tr>\n",
              "      <th>8</th>\n",
              "      <td>Malaysia</td>\n",
              "      <td>Asia</td>\n",
              "    </tr>\n",
              "    <tr>\n",
              "      <th>9</th>\n",
              "      <td>Mayanmar</td>\n",
              "      <td>Asia</td>\n",
              "    </tr>\n",
              "    <tr>\n",
              "      <th>10</th>\n",
              "      <td>Iceland</td>\n",
              "      <td>North America</td>\n",
              "    </tr>\n",
              "    <tr>\n",
              "      <th>11</th>\n",
              "      <td>Germany</td>\n",
              "      <td>Europe</td>\n",
              "    </tr>\n",
              "    <tr>\n",
              "      <th>12</th>\n",
              "      <td>Cuba</td>\n",
              "      <td>South America</td>\n",
              "    </tr>\n",
              "  </tbody>\n",
              "</table>\n",
              "</div>"
            ],
            "text/plain": [
              "        Country      Continent\n",
              "0         Spain         Europe\n",
              "1         Italy         Europe\n",
              "2         Chile  South America\n",
              "3        Brazil  South America\n",
              "4        Canada  North America\n",
              "5   North Korea           Asia\n",
              "6       Vietnam           Asia\n",
              "7      Thailand           Asia\n",
              "8      Malaysia           Asia\n",
              "9      Mayanmar           Asia\n",
              "10      Iceland  North America\n",
              "11      Germany         Europe\n",
              "12         Cuba  South America"
            ]
          },
          "metadata": {
            "tags": []
          },
          "execution_count": 2
        }
      ]
    },
    {
      "cell_type": "code",
      "metadata": {
        "id": "z4eF8WeJpLIq",
        "colab_type": "code",
        "colab": {
          "base_uri": "https://localhost:8080/",
          "height": 398
        },
        "outputId": "6a85ba8b-ae63-4dad-ac83-dc37df3848ca"
      },
      "source": [
        "print(dict(zip(unique, counts)))\n",
        "\n",
        "df = pd.DataFrame({'Region': unique.ravel(), 'Countries': counts.ravel()})\n",
        "print(color.BOLD + color.PURPLE + \"\\nCountries binned by continent\" + color.END)\n",
        "ax = df.plot.bar(x='Region', y='Countries', rot=45)"
      ],
      "execution_count": 3,
      "outputs": [
        {
          "output_type": "stream",
          "text": [
            "{'Asia': 5, 'Europe': 3, 'North America': 2, 'South America': 3}\n",
            "\u001b[1m\u001b[95m\n",
            "Countries binned by continent\u001b[0m\n"
          ],
          "name": "stdout"
        },
        {
          "output_type": "display_data",
          "data": {
            "image/png": "[encoded data removed]",
            "text/plain": [
              "<Figure size 432x288 with 1 Axes>"
            ]
          },
          "metadata": {
            "tags": []
          }
        }
      ]
    },
    {
      "cell_type": "code",
      "metadata": {
        "id": "hktWZBgPDfiK",
        "colab_type": "code",
        "colab": {
          "base_uri": "https://localhost:8080/",
          "height": 466
        },
        "outputId": "f27082de-9308-4f26-e226-e0a689f8cc49"
      },
      "source": [
        "import pandas as pd\n",
        "import numpy as np\n",
        "import seaborn as sns\n",
        "\n",
        "# Numerical Binning Example\n",
        "\n",
        "revenue_df = pd.read_excel('https://github.com/vbloise3/WhizLabsML/blob/master/binning/201_Revenue_Total.xlsx?raw=true')\n",
        "print(color.BOLD + color.PURPLE + \"\\nNumber of observations: \" + str(len(revenue_df.index)) + color.END)\n",
        "revenue_df"
      ],
      "execution_count": 35,
      "outputs": [
        {
          "output_type": "stream",
          "text": [
            "\u001b[1m\u001b[95m\n",
            "Number of observations: 1507\u001b[0m\n"
          ],
          "name": "stdout"
        },
        {
          "output_type": "execute_result",
          "data": {
            "text/html": [
              "<div>\n",
              "<style scoped>\n",
              "    .dataframe tbody tr th:only-of-type {\n",
              "        vertical-align: middle;\n",
              "    }\n",
              "\n",
              "    .dataframe tbody tr th {\n",
              "        vertical-align: top;\n",
              "    }\n",
              "\n",
              "    .dataframe thead th {\n",
              "        text-align: right;\n",
              "    }\n",
              "</style>\n",
              "<table border=\"1\" class=\"dataframe\">\n",
              "  <thead>\n",
              "    <tr style=\"text-align: right;\">\n",
              "      <th></th>\n",
              "      <th>reference number</th>\n",
              "      <th>name</th>\n",
              "      <th>price</th>\n",
              "      <th>date</th>\n",
              "    </tr>\n",
              "  </thead>\n",
              "  <tbody>\n",
              "    <tr>\n",
              "      <th>0</th>\n",
              "      <td>740150</td>\n",
              "      <td>Thomas LLC</td>\n",
              "      <td>3380.91</td>\n",
              "      <td>2018-01-01 07:21:51</td>\n",
              "    </tr>\n",
              "    <tr>\n",
              "      <th>1</th>\n",
              "      <td>714466</td>\n",
              "      <td>Sillians-Krapfs</td>\n",
              "      <td>-63.16</td>\n",
              "      <td>2018-01-01 10:00:47</td>\n",
              "    </tr>\n",
              "    <tr>\n",
              "      <th>2</th>\n",
              "      <td>218895</td>\n",
              "      <td>Snodgrass Inc</td>\n",
              "      <td>2086.10</td>\n",
              "      <td>2018-01-01 13:24:58</td>\n",
              "    </tr>\n",
              "    <tr>\n",
              "      <th>3</th>\n",
              "      <td>307599</td>\n",
              "      <td>Craut, Oniote and Johnson</td>\n",
              "      <td>863.05</td>\n",
              "      <td>2018-01-01 15:05:22</td>\n",
              "    </tr>\n",
              "    <tr>\n",
              "      <th>4</th>\n",
              "      <td>412290</td>\n",
              "      <td>Judais-Pewrters</td>\n",
              "      <td>499.26</td>\n",
              "      <td>2018-01-01 23:26:55</td>\n",
              "    </tr>\n",
              "    <tr>\n",
              "      <th>...</th>\n",
              "      <td>...</td>\n",
              "      <td>...</td>\n",
              "      <td>...</td>\n",
              "      <td>...</td>\n",
              "    </tr>\n",
              "    <tr>\n",
              "      <th>1502</th>\n",
              "      <td>424914</td>\n",
              "      <td>Green-Brown</td>\n",
              "      <td>1582.49</td>\n",
              "      <td>2018-11-27 14:29:02</td>\n",
              "    </tr>\n",
              "    <tr>\n",
              "      <th>1503</th>\n",
              "      <td>424914</td>\n",
              "      <td>Green-Brown</td>\n",
              "      <td>1049.28</td>\n",
              "      <td>2018-12-19 15:15:41</td>\n",
              "    </tr>\n",
              "    <tr>\n",
              "      <th>1504</th>\n",
              "      <td>424914</td>\n",
              "      <td>Green-Brown</td>\n",
              "      <td>2166.75</td>\n",
              "      <td>2018-12-29 13:03:54</td>\n",
              "    </tr>\n",
              "    <tr>\n",
              "      <th>1505</th>\n",
              "      <td>424914</td>\n",
              "      <td>Green-Brown</td>\n",
              "      <td>1915.00</td>\n",
              "      <td>2018-12-22 03:31:36</td>\n",
              "    </tr>\n",
              "    <tr>\n",
              "      <th>1506</th>\n",
              "      <td>424914</td>\n",
              "      <td>Green-Brown</td>\n",
              "      <td>8819.00</td>\n",
              "      <td>2018-12-16 00:46:26</td>\n",
              "    </tr>\n",
              "  </tbody>\n",
              "</table>\n",
              "<p>1507 rows × 4 columns</p>\n",
              "</div>"
            ],
            "text/plain": [
              "      reference number                       name    price                date\n",
              "0               740150                 Thomas LLC  3380.91 2018-01-01 07:21:51\n",
              "1               714466            Sillians-Krapfs   -63.16 2018-01-01 10:00:47\n",
              "2               218895              Snodgrass Inc  2086.10 2018-01-01 13:24:58\n",
              "3               307599  Craut, Oniote and Johnson   863.05 2018-01-01 15:05:22\n",
              "4               412290            Judais-Pewrters   499.26 2018-01-01 23:26:55\n",
              "...                ...                        ...      ...                 ...\n",
              "1502            424914                Green-Brown  1582.49 2018-11-27 14:29:02\n",
              "1503            424914                Green-Brown  1049.28 2018-12-19 15:15:41\n",
              "1504            424914                Green-Brown  2166.75 2018-12-29 13:03:54\n",
              "1505            424914                Green-Brown  1915.00 2018-12-22 03:31:36\n",
              "1506            424914                Green-Brown  8819.00 2018-12-16 00:46:26\n",
              "\n",
              "[1507 rows x 4 columns]"
            ]
          },
          "metadata": {
            "tags": []
          },
          "execution_count": 35
        }
      ]
    },
    {
      "cell_type": "code",
      "metadata": {
        "id": "diAHYdguEnzS",
        "colab_type": "code",
        "colab": {
          "base_uri": "https://localhost:8080/",
          "height": 302
        },
        "outputId": "f468827d-93c9-4365-d36c-199cc5741a65"
      },
      "source": [
        "sns.set_style('whitegrid')\n",
        "df = revenue_df.groupby(['reference number', 'name'])['price'].sum().reset_index()\n",
        "df['price'].plot(kind='hist')"
      ],
      "execution_count": 36,
      "outputs": [
        {
          "output_type": "execute_result",
          "data": {
            "text/plain": [
              "<matplotlib.axes._subplots.AxesSubplot at 0x7f57666c2dd8>"
            ]
          },
          "metadata": {
            "tags": []
          },
          "execution_count": 36
        },
        {
          "output_type": "display_data",
          "data": {
            "image/png": "[encoded data removed]",
            "text/plain": [
              "<Figure size 432x288 with 1 Axes>"
            ]
          },
          "metadata": {
            "tags": []
          }
        }
      ]
    },
    {
      "cell_type": "code",
      "metadata": {
        "id": "Qxkry34jICAx",
        "colab_type": "code",
        "colab": {
          "base_uri": "https://localhost:8080/",
          "height": 436
        },
        "outputId": "811cb25a-f2b2-437f-91f5-6c51ca0eb3a5"
      },
      "source": [
        "# Quantile binning example\n",
        "print(color.BOLD + color.PURPLE + \"\\nqcut: a quantile-based discretization function that divides up the data into equal sized bins\" + color.END)\n",
        "print(df['price'].describe())\n",
        "\n",
        "df['quantile_price_quartiles'] = pd.qcut(df['price'], q=4)\n",
        "df['quantile_price_deciles'] = pd.qcut(df['price'], q=10, precision=0)\n",
        "bin_labels_5 = ['Rookie', 'Sophomore', 'Junior', 'Senior', 'Professional']\n",
        "df['quantile_price_quintiles'] = pd.qcut(df['price'],\n",
        "                              q=[0, .2, .4, .6, .8, 1],\n",
        "                              labels=bin_labels_5)\n",
        "print(color.BOLD + color.PURPLE + \"\\nThree examples: quartiles, deciles, quintiles\" + color.END)\n",
        "df.head()"
      ],
      "execution_count": 37,
      "outputs": [
        {
          "output_type": "stream",
          "text": [
            "\u001b[1m\u001b[95m\n",
            "qcut: a quantile-based discretization function that divides up the data into equal sized bins\u001b[0m\n",
            "count        20.000000\n",
            "mean     101711.287500\n",
            "std       27037.449673\n",
            "min       55733.050000\n",
            "25%       89137.707500\n",
            "50%      100271.535000\n",
            "75%      110132.552500\n",
            "max      184793.700000\n",
            "Name: price, dtype: float64\n",
            "\u001b[1m\u001b[95m\n",
            "Three examples: quartiles, deciles, quintiles\u001b[0m\n"
          ],
          "name": "stdout"
        },
        {
          "output_type": "execute_result",
          "data": {
            "text/html": [
              "<div>\n",
              "<style scoped>\n",
              "    .dataframe tbody tr th:only-of-type {\n",
              "        vertical-align: middle;\n",
              "    }\n",
              "\n",
              "    .dataframe tbody tr th {\n",
              "        vertical-align: top;\n",
              "    }\n",
              "\n",
              "    .dataframe thead th {\n",
              "        text-align: right;\n",
              "    }\n",
              "</style>\n",
              "<table border=\"1\" class=\"dataframe\">\n",
              "  <thead>\n",
              "    <tr style=\"text-align: right;\">\n",
              "      <th></th>\n",
              "      <th>reference number</th>\n",
              "      <th>name</th>\n",
              "      <th>price</th>\n",
              "      <th>quantile_price_quartiles</th>\n",
              "      <th>quantile_price_deciles</th>\n",
              "      <th>quantile_price_quintiles</th>\n",
              "    </tr>\n",
              "  </thead>\n",
              "  <tbody>\n",
              "    <tr>\n",
              "      <th>0</th>\n",
              "      <td>141962</td>\n",
              "      <td>Speilmans LLC</td>\n",
              "      <td>63626.03</td>\n",
              "      <td>(55733.049000000006, 89137.708]</td>\n",
              "      <td>(55732.0, 76471.0]</td>\n",
              "      <td>Rookie</td>\n",
              "    </tr>\n",
              "    <tr>\n",
              "      <th>1</th>\n",
              "      <td>146832</td>\n",
              "      <td>Jones-Spank</td>\n",
              "      <td>99608.77</td>\n",
              "      <td>(89137.708, 100271.535]</td>\n",
              "      <td>(95908.0, 100272.0]</td>\n",
              "      <td>Junior</td>\n",
              "    </tr>\n",
              "    <tr>\n",
              "      <th>2</th>\n",
              "      <td>163416</td>\n",
              "      <td>Muns-Kalifan</td>\n",
              "      <td>77898.21</td>\n",
              "      <td>(55733.049000000006, 89137.708]</td>\n",
              "      <td>(76471.0, 87168.0]</td>\n",
              "      <td>Rookie</td>\n",
              "    </tr>\n",
              "    <tr>\n",
              "      <th>3</th>\n",
              "      <td>218895</td>\n",
              "      <td>Snodgrass Inc</td>\n",
              "      <td>137351.96</td>\n",
              "      <td>(110132.552, 184793.7]</td>\n",
              "      <td>(124778.0, 184794.0]</td>\n",
              "      <td>Professional</td>\n",
              "    </tr>\n",
              "    <tr>\n",
              "      <th>4</th>\n",
              "      <td>239344</td>\n",
              "      <td>Finley LLC</td>\n",
              "      <td>91535.92</td>\n",
              "      <td>(89137.708, 100271.535]</td>\n",
              "      <td>(90686.0, 95908.0]</td>\n",
              "      <td>Sophomore</td>\n",
              "    </tr>\n",
              "  </tbody>\n",
              "</table>\n",
              "</div>"
            ],
            "text/plain": [
              "   reference number  ... quantile_price_quintiles\n",
              "0            141962  ...                   Rookie\n",
              "1            146832  ...                   Junior\n",
              "2            163416  ...                   Rookie\n",
              "3            218895  ...             Professional\n",
              "4            239344  ...                Sophomore\n",
              "\n",
              "[5 rows x 6 columns]"
            ]
          },
          "metadata": {
            "tags": []
          },
          "execution_count": 37
        }
      ]
    },
    {
      "cell_type": "code",
      "metadata": {
        "id": "bHA0D3MwML59",
        "colab_type": "code",
        "colab": {
          "base_uri": "https://localhost:8080/",
          "height": 254
        },
        "outputId": "b5693109-1817-4309-ac9c-75111575c8f8"
      },
      "source": [
        "# Check the bin ranges\n",
        "print(color.BOLD + color.PURPLE + \"\\nWhat ranges identify the bins?\" + color.END)\n",
        "results, bin_edges = pd.qcut(df['price'],\n",
        "                            q=[0, .2, .4, .6, .8, 1],\n",
        "                            labels=bin_labels_5,\n",
        "                            retbins=True)\n",
        "\n",
        "results_table = pd.DataFrame(zip(bin_edges, bin_labels_5),\n",
        "                            columns=['Threshold', 'Tier'])\n",
        "results_table"
      ],
      "execution_count": 38,
      "outputs": [
        {
          "output_type": "stream",
          "text": [
            "\u001b[1m\u001b[95m\n",
            "What ranges identify the bins?\u001b[0m\n"
          ],
          "name": "stdout"
        },
        {
          "output_type": "execute_result",
          "data": {
            "text/html": [
              "<div>\n",
              "<style scoped>\n",
              "    .dataframe tbody tr th:only-of-type {\n",
              "        vertical-align: middle;\n",
              "    }\n",
              "\n",
              "    .dataframe tbody tr th {\n",
              "        vertical-align: top;\n",
              "    }\n",
              "\n",
              "    .dataframe thead th {\n",
              "        text-align: right;\n",
              "    }\n",
              "</style>\n",
              "<table border=\"1\" class=\"dataframe\">\n",
              "  <thead>\n",
              "    <tr style=\"text-align: right;\">\n",
              "      <th></th>\n",
              "      <th>Threshold</th>\n",
              "      <th>Tier</th>\n",
              "    </tr>\n",
              "  </thead>\n",
              "  <tbody>\n",
              "    <tr>\n",
              "      <th>0</th>\n",
              "      <td>55733.050</td>\n",
              "      <td>Rookie</td>\n",
              "    </tr>\n",
              "    <tr>\n",
              "      <th>1</th>\n",
              "      <td>87167.958</td>\n",
              "      <td>Sophomore</td>\n",
              "    </tr>\n",
              "    <tr>\n",
              "      <th>2</th>\n",
              "      <td>95908.156</td>\n",
              "      <td>Junior</td>\n",
              "    </tr>\n",
              "    <tr>\n",
              "      <th>3</th>\n",
              "      <td>103605.970</td>\n",
              "      <td>Senior</td>\n",
              "    </tr>\n",
              "    <tr>\n",
              "      <th>4</th>\n",
              "      <td>112290.054</td>\n",
              "      <td>Professional</td>\n",
              "    </tr>\n",
              "  </tbody>\n",
              "</table>\n",
              "</div>"
            ],
            "text/plain": [
              "    Threshold          Tier\n",
              "0   55733.050        Rookie\n",
              "1   87167.958     Sophomore\n",
              "2   95908.156        Junior\n",
              "3  103605.970        Senior\n",
              "4  112290.054  Professional"
            ]
          },
          "metadata": {
            "tags": []
          },
          "execution_count": 38
        }
      ]
    },
    {
      "cell_type": "code",
      "metadata": {
        "id": "6pGB_lCLMnig",
        "colab_type": "code",
        "colab": {
          "base_uri": "https://localhost:8080/",
          "height": 170
        },
        "outputId": "927e66ee-22b6-456e-f2ed-760311fac47c"
      },
      "source": [
        "# Check the bin distribution\n",
        "print(color.BOLD + color.PURPLE + \"\\nBin distribution:\" + color.END)\n",
        "df['quantile_price_quintiles'].value_counts()"
      ],
      "execution_count": 40,
      "outputs": [
        {
          "output_type": "stream",
          "text": [
            "\u001b[1m\u001b[95m\n",
            "Bin distribution:\u001b[0m\n"
          ],
          "name": "stdout"
        },
        {
          "output_type": "execute_result",
          "data": {
            "text/plain": [
              "Professional    4\n",
              "Senior          4\n",
              "Junior          4\n",
              "Sophomore       4\n",
              "Rookie          4\n",
              "Name: quantile_price_quintiles, dtype: int64"
            ]
          },
          "metadata": {
            "tags": []
          },
          "execution_count": 40
        }
      ]
    }
  ]
}